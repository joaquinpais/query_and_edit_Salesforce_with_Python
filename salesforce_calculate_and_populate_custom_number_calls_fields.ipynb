{
 "cells": [
  {
   "cell_type": "markdown",
   "metadata": {},
   "source": [
    "### Introduction\n",
    "\n",
    "The purpose of this workbook is to use the Simple Salesforce python package to extract all completed Tasks with a subject containing the word 'call', then total these up for each Lead/Contact and populate a custom field *Number_Of_Calls__c* on each Lead/Contact record.\n",
    "\n",
    "Schema details for the Task object in Salesforce can be found here:\n",
    "\n",
    "https://developer.salesforce.com/docs/atlas.en-us.api.meta/api/sforce_api_erd_activities.htm\n",
    "\n",
    "Simple Salesforce documentation can be found here:\n",
    "\n",
    "https://pypi.python.org/pypi/simple-salesforce"
   ]
  },
  {
   "cell_type": "markdown",
   "metadata": {},
   "source": [
    "#### imports etc."
   ]
  },
  {
   "cell_type": "code",
   "execution_count": 19,
   "metadata": {
    "collapsed": false
   },
   "outputs": [],
   "source": [
    "import pandas as pd\n",
    "from simple_salesforce import Salesforce\n",
    "\n",
    "# Enter the relevant credentials for your Salesforce org.\n",
    "sf = Salesforce(password='xxxxxxxxxxxxx', \\\n",
    "                username='xxxxxxxxxxxxx', \\\n",
    "                organizationId='xxxxxxxxxxxxx',\\\n",
    "                security_token='xxxxxxxxxxxxx')\n"
   ]
  },
  {
   "cell_type": "markdown",
   "metadata": {},
   "source": [
    "#### First step is to run a query on all completed tasks with subject containing the word 'call'."
   ]
  },
  {
   "cell_type": "code",
   "execution_count": 20,
   "metadata": {
    "collapsed": false
   },
   "outputs": [
    {
     "name": "stdout",
     "output_type": "stream",
     "text": [
      "Total number of completed task 'call' records =  1270\n"
     ]
    }
   ],
   "source": [
    "# Salesforce SOQL query for all completed Tasks with 'call' in the Subject:\n",
    "query= \"\"\"\n",
    "SELECT Id, WhoId, WhatId, OwnerId, AccountId, Subject, Status\n",
    "FROM Task\n",
    "WHERE Subject LIKE '%call%' AND Status = 'Completed'\n",
    "\"\"\"\n",
    "tasks_df = pd.DataFrame(sf.query_all(query)['records'])  # Create dataframe from Salesforce query.\n",
    "tasks_df.drop('attributes',axis=1,inplace=True)  # Drop 'attributes' column which is not required.\n",
    "\n",
    "# See how many records there are (to make sure data has been produced).\n",
    "print 'Total number of completed task \\'call\\' records = ',tasks_df.Id.count()"
   ]
  },
  {
   "cell_type": "code",
   "execution_count": 21,
   "metadata": {
    "collapsed": false
   },
   "outputs": [
    {
     "data": {
      "text/html": [
       "<div>\n",
       "<table border=\"1\" class=\"dataframe\">\n",
       "  <thead>\n",
       "    <tr style=\"text-align: right;\">\n",
       "      <th></th>\n",
       "      <th>AccountId</th>\n",
       "      <th>Id</th>\n",
       "      <th>OwnerId</th>\n",
       "      <th>Status</th>\n",
       "      <th>Subject</th>\n",
       "      <th>WhatId</th>\n",
       "      <th>WhoId</th>\n",
       "    </tr>\n",
       "  </thead>\n",
       "  <tbody>\n",
       "    <tr>\n",
       "      <th>0</th>\n",
       "      <td>None</td>\n",
       "      <td>00Tb000000b7Wq3EAE</td>\n",
       "      <td>005b0000001ehRRAAY</td>\n",
       "      <td>Completed</td>\n",
       "      <td>Call</td>\n",
       "      <td>None</td>\n",
       "      <td>00Qb0000008EImqEAG</td>\n",
       "    </tr>\n",
       "    <tr>\n",
       "      <th>1</th>\n",
       "      <td>None</td>\n",
       "      <td>00Tb000000b7kvOEAQ</td>\n",
       "      <td>005b0000001ehRRAAY</td>\n",
       "      <td>Completed</td>\n",
       "      <td>Call</td>\n",
       "      <td>None</td>\n",
       "      <td>00Qb00000077nbyEAA</td>\n",
       "    </tr>\n",
       "    <tr>\n",
       "      <th>2</th>\n",
       "      <td>None</td>\n",
       "      <td>00Tb000000b7rzPEAQ</td>\n",
       "      <td>005b0000001ehRRAAY</td>\n",
       "      <td>Completed</td>\n",
       "      <td>Call</td>\n",
       "      <td>None</td>\n",
       "      <td>00Qb0000008DtqwEAC</td>\n",
       "    </tr>\n",
       "    <tr>\n",
       "      <th>3</th>\n",
       "      <td>None</td>\n",
       "      <td>00Tb000000b8GgrEAE</td>\n",
       "      <td>005b0000001ehRRAAY</td>\n",
       "      <td>Completed</td>\n",
       "      <td>Call</td>\n",
       "      <td>None</td>\n",
       "      <td>00Qb0000008F5PAEA0</td>\n",
       "    </tr>\n",
       "    <tr>\n",
       "      <th>4</th>\n",
       "      <td>None</td>\n",
       "      <td>00Tb000000b8HNEEA2</td>\n",
       "      <td>005b0000001ehRRAAY</td>\n",
       "      <td>Completed</td>\n",
       "      <td>Call</td>\n",
       "      <td>None</td>\n",
       "      <td>00Qb0000008EFmKEAW</td>\n",
       "    </tr>\n",
       "  </tbody>\n",
       "</table>\n",
       "</div>"
      ],
      "text/plain": [
       "  AccountId                  Id             OwnerId     Status Subject WhatId  \\\n",
       "0      None  00Tb000000b7Wq3EAE  005b0000001ehRRAAY  Completed    Call   None   \n",
       "1      None  00Tb000000b7kvOEAQ  005b0000001ehRRAAY  Completed    Call   None   \n",
       "2      None  00Tb000000b7rzPEAQ  005b0000001ehRRAAY  Completed    Call   None   \n",
       "3      None  00Tb000000b8GgrEAE  005b0000001ehRRAAY  Completed    Call   None   \n",
       "4      None  00Tb000000b8HNEEA2  005b0000001ehRRAAY  Completed    Call   None   \n",
       "\n",
       "                WhoId  \n",
       "0  00Qb0000008EImqEAG  \n",
       "1  00Qb00000077nbyEAA  \n",
       "2  00Qb0000008DtqwEAC  \n",
       "3  00Qb0000008F5PAEA0  \n",
       "4  00Qb0000008EFmKEAW  "
      ]
     },
     "execution_count": 21,
     "metadata": {},
     "output_type": "execute_result"
    }
   ],
   "source": [
    "tasks_df.head() # Have a look at the dataframe"
   ]
  },
  {
   "cell_type": "markdown",
   "metadata": {},
   "source": [
    "#### Next we need the Lead/Contact Ids to identify which of the *WhoId* values are Leads and which are Contacts."
   ]
  },
  {
   "cell_type": "code",
   "execution_count": 22,
   "metadata": {
    "collapsed": false
   },
   "outputs": [
    {
     "name": "stdout",
     "output_type": "stream",
     "text": [
      "Total number of Lead records =  19935\n",
      "Total number of Contact records =  4850\n"
     ]
    }
   ],
   "source": [
    "query= \"SELECT Id FROM Lead\" # Salesforce SOQL query for all Lead Ids\n",
    "leads_df = pd.DataFrame(sf.query_all(query)['records'])  # Create dataframe from Salesforce query.\n",
    "leads_df = leads_df.rename(columns={'Id':'WhoId'})  # Change Id column name so it can be merged with Tasks dataframe.\n",
    "leads_df.drop('attributes',axis=1,inplace=True)  # Drop 'attributes' column as not required.\n",
    "leads_df['Is_Lead']=1  # Add column to merge into Tasks dataframe which identifes the record as a Lead.\n",
    "\n",
    "query= \"SELECT Id FROM Contact\" # Salesforce SOQL query for all Contact Ids\n",
    "contacts_df = pd.DataFrame(sf.query_all(query)['records'])  # Create dataframe from Salesforce query.\n",
    "contacts_df = contacts_df.rename(columns={'Id':'WhoId'})  # Change Id column name so it can be merged with Tasks dataframe.\n",
    "contacts_df.drop('attributes',axis=1,inplace=True)  # Drop 'attributes' column as not required.\n",
    "contacts_df['Is_Contact']=1  # Add column to merge into Tasks dataframe which identifes the record as a Contact.\n",
    "\n",
    "# See how many records there are of each type (make sure data has been produced)\n",
    "print 'Total number of Lead records = ',leads_df.WhoId.count()\n",
    "print 'Total number of Contact records = ',contacts_df.WhoId.count()"
   ]
  },
  {
   "cell_type": "code",
   "execution_count": 23,
   "metadata": {
    "collapsed": false
   },
   "outputs": [
    {
     "data": {
      "text/html": [
       "<div>\n",
       "<table border=\"1\" class=\"dataframe\">\n",
       "  <thead>\n",
       "    <tr style=\"text-align: right;\">\n",
       "      <th></th>\n",
       "      <th>AccountId</th>\n",
       "      <th>Id</th>\n",
       "      <th>OwnerId</th>\n",
       "      <th>Status</th>\n",
       "      <th>Subject</th>\n",
       "      <th>WhatId</th>\n",
       "      <th>WhoId</th>\n",
       "      <th>Is_Lead</th>\n",
       "      <th>Is_Contact</th>\n",
       "    </tr>\n",
       "  </thead>\n",
       "  <tbody>\n",
       "    <tr>\n",
       "      <th>0</th>\n",
       "      <td>None</td>\n",
       "      <td>00Tb000000b7Wq3EAE</td>\n",
       "      <td>005b0000001ehRRAAY</td>\n",
       "      <td>Completed</td>\n",
       "      <td>Call</td>\n",
       "      <td>None</td>\n",
       "      <td>00Qb0000008EImqEAG</td>\n",
       "      <td>1.0</td>\n",
       "      <td>NaN</td>\n",
       "    </tr>\n",
       "    <tr>\n",
       "      <th>1</th>\n",
       "      <td>None</td>\n",
       "      <td>00Tb000000b7kvOEAQ</td>\n",
       "      <td>005b0000001ehRRAAY</td>\n",
       "      <td>Completed</td>\n",
       "      <td>Call</td>\n",
       "      <td>None</td>\n",
       "      <td>00Qb00000077nbyEAA</td>\n",
       "      <td>1.0</td>\n",
       "      <td>NaN</td>\n",
       "    </tr>\n",
       "    <tr>\n",
       "      <th>2</th>\n",
       "      <td>None</td>\n",
       "      <td>00Tb000000b7rzPEAQ</td>\n",
       "      <td>005b0000001ehRRAAY</td>\n",
       "      <td>Completed</td>\n",
       "      <td>Call</td>\n",
       "      <td>None</td>\n",
       "      <td>00Qb0000008DtqwEAC</td>\n",
       "      <td>1.0</td>\n",
       "      <td>NaN</td>\n",
       "    </tr>\n",
       "    <tr>\n",
       "      <th>3</th>\n",
       "      <td>None</td>\n",
       "      <td>00Tb000000b8GgrEAE</td>\n",
       "      <td>005b0000001ehRRAAY</td>\n",
       "      <td>Completed</td>\n",
       "      <td>Call</td>\n",
       "      <td>None</td>\n",
       "      <td>00Qb0000008F5PAEA0</td>\n",
       "      <td>1.0</td>\n",
       "      <td>NaN</td>\n",
       "    </tr>\n",
       "    <tr>\n",
       "      <th>4</th>\n",
       "      <td>None</td>\n",
       "      <td>00Tb000000b8HNEEA2</td>\n",
       "      <td>005b0000001ehRRAAY</td>\n",
       "      <td>Completed</td>\n",
       "      <td>Call</td>\n",
       "      <td>None</td>\n",
       "      <td>00Qb0000008EFmKEAW</td>\n",
       "      <td>1.0</td>\n",
       "      <td>NaN</td>\n",
       "    </tr>\n",
       "  </tbody>\n",
       "</table>\n",
       "</div>"
      ],
      "text/plain": [
       "  AccountId                  Id             OwnerId     Status Subject WhatId  \\\n",
       "0      None  00Tb000000b7Wq3EAE  005b0000001ehRRAAY  Completed    Call   None   \n",
       "1      None  00Tb000000b7kvOEAQ  005b0000001ehRRAAY  Completed    Call   None   \n",
       "2      None  00Tb000000b7rzPEAQ  005b0000001ehRRAAY  Completed    Call   None   \n",
       "3      None  00Tb000000b8GgrEAE  005b0000001ehRRAAY  Completed    Call   None   \n",
       "4      None  00Tb000000b8HNEEA2  005b0000001ehRRAAY  Completed    Call   None   \n",
       "\n",
       "                WhoId  Is_Lead  Is_Contact  \n",
       "0  00Qb0000008EImqEAG      1.0         NaN  \n",
       "1  00Qb00000077nbyEAA      1.0         NaN  \n",
       "2  00Qb0000008DtqwEAC      1.0         NaN  \n",
       "3  00Qb0000008F5PAEA0      1.0         NaN  \n",
       "4  00Qb0000008EFmKEAW      1.0         NaN  "
      ]
     },
     "execution_count": 23,
     "metadata": {},
     "output_type": "execute_result"
    }
   ],
   "source": [
    "# Merge the 'Is_Lead'/'Is_Contact' fields into Tasks dataframe.\n",
    "tasks_df = pd.merge(tasks_df,leads_df,how='left',on='WhoId')\n",
    "tasks_df = pd.merge(tasks_df,contacts_df,how='left',on='WhoId')\n",
    "\n",
    "# Drop rows where the Task was not related to a Lead or Contact.\n",
    "tasks_df.dropna(axis=0,how='all',subset=('Is_Contact','Is_Lead'),inplace=True)\n",
    "\n",
    "tasks_df.head() # Have a look at the updated dataframe"
   ]
  },
  {
   "cell_type": "markdown",
   "metadata": {},
   "source": [
    "#### Now we need to total up the number of completed calls for each Lead / Contact."
   ]
  },
  {
   "cell_type": "code",
   "execution_count": 24,
   "metadata": {
    "collapsed": false
   },
   "outputs": [
    {
     "data": {
      "text/html": [
       "<div>\n",
       "<table border=\"1\" class=\"dataframe\">\n",
       "  <thead>\n",
       "    <tr style=\"text-align: right;\">\n",
       "      <th></th>\n",
       "      <th>AccountId</th>\n",
       "      <th>Id</th>\n",
       "      <th>OwnerId</th>\n",
       "      <th>Status</th>\n",
       "      <th>Subject</th>\n",
       "      <th>WhatId</th>\n",
       "      <th>WhoId</th>\n",
       "      <th>Is_Lead</th>\n",
       "      <th>Is_Contact</th>\n",
       "      <th>Call_Count</th>\n",
       "    </tr>\n",
       "  </thead>\n",
       "  <tbody>\n",
       "    <tr>\n",
       "      <th>0</th>\n",
       "      <td>None</td>\n",
       "      <td>00Tb000000b7Wq3EAE</td>\n",
       "      <td>005b0000001ehRRAAY</td>\n",
       "      <td>Completed</td>\n",
       "      <td>Call</td>\n",
       "      <td>None</td>\n",
       "      <td>00Qb0000008EImqEAG</td>\n",
       "      <td>1.0</td>\n",
       "      <td>NaN</td>\n",
       "      <td>1</td>\n",
       "    </tr>\n",
       "    <tr>\n",
       "      <th>1</th>\n",
       "      <td>None</td>\n",
       "      <td>00Tb000000b7kvOEAQ</td>\n",
       "      <td>005b0000001ehRRAAY</td>\n",
       "      <td>Completed</td>\n",
       "      <td>Call</td>\n",
       "      <td>None</td>\n",
       "      <td>00Qb00000077nbyEAA</td>\n",
       "      <td>1.0</td>\n",
       "      <td>NaN</td>\n",
       "      <td>1</td>\n",
       "    </tr>\n",
       "    <tr>\n",
       "      <th>2</th>\n",
       "      <td>None</td>\n",
       "      <td>00Tb000000b7rzPEAQ</td>\n",
       "      <td>005b0000001ehRRAAY</td>\n",
       "      <td>Completed</td>\n",
       "      <td>Call</td>\n",
       "      <td>None</td>\n",
       "      <td>00Qb0000008DtqwEAC</td>\n",
       "      <td>1.0</td>\n",
       "      <td>NaN</td>\n",
       "      <td>2</td>\n",
       "    </tr>\n",
       "    <tr>\n",
       "      <th>3</th>\n",
       "      <td>None</td>\n",
       "      <td>00Tb000000b8GgrEAE</td>\n",
       "      <td>005b0000001ehRRAAY</td>\n",
       "      <td>Completed</td>\n",
       "      <td>Call</td>\n",
       "      <td>None</td>\n",
       "      <td>00Qb0000008F5PAEA0</td>\n",
       "      <td>1.0</td>\n",
       "      <td>NaN</td>\n",
       "      <td>1</td>\n",
       "    </tr>\n",
       "    <tr>\n",
       "      <th>4</th>\n",
       "      <td>None</td>\n",
       "      <td>00Tb000000b8HNEEA2</td>\n",
       "      <td>005b0000001ehRRAAY</td>\n",
       "      <td>Completed</td>\n",
       "      <td>Call</td>\n",
       "      <td>None</td>\n",
       "      <td>00Qb0000008EFmKEAW</td>\n",
       "      <td>1.0</td>\n",
       "      <td>NaN</td>\n",
       "      <td>2</td>\n",
       "    </tr>\n",
       "  </tbody>\n",
       "</table>\n",
       "</div>"
      ],
      "text/plain": [
       "  AccountId                  Id             OwnerId     Status Subject WhatId  \\\n",
       "0      None  00Tb000000b7Wq3EAE  005b0000001ehRRAAY  Completed    Call   None   \n",
       "1      None  00Tb000000b7kvOEAQ  005b0000001ehRRAAY  Completed    Call   None   \n",
       "2      None  00Tb000000b7rzPEAQ  005b0000001ehRRAAY  Completed    Call   None   \n",
       "3      None  00Tb000000b8GgrEAE  005b0000001ehRRAAY  Completed    Call   None   \n",
       "4      None  00Tb000000b8HNEEA2  005b0000001ehRRAAY  Completed    Call   None   \n",
       "\n",
       "                WhoId  Is_Lead  Is_Contact  Call_Count  \n",
       "0  00Qb0000008EImqEAG      1.0         NaN           1  \n",
       "1  00Qb00000077nbyEAA      1.0         NaN           1  \n",
       "2  00Qb0000008DtqwEAC      1.0         NaN           2  \n",
       "3  00Qb0000008F5PAEA0      1.0         NaN           1  \n",
       "4  00Qb0000008EFmKEAW      1.0         NaN           2  "
      ]
     },
     "execution_count": 24,
     "metadata": {},
     "output_type": "execute_result"
    }
   ],
   "source": [
    "# Add new 'Call_Count' column which adds a total count of each 'WhoId'\n",
    "tasks_df['Call_Count'] = tasks_df.groupby('WhoId')['WhoId'].transform(\"count\")\n",
    "tasks_df.head() # Have a look at the updated dataframe"
   ]
  },
  {
   "cell_type": "markdown",
   "metadata": {},
   "source": [
    "#### Now that we have the total number of completed calls for every Lead and Contact the last step is to update the *Number_Of_Calls__c* field in the records in Salesforce."
   ]
  },
  {
   "cell_type": "code",
   "execution_count": 25,
   "metadata": {
    "collapsed": false
   },
   "outputs": [],
   "source": [
    "# Create Leads dataframe with data to push to Salesforce\n",
    "leads_to_update = tasks_df[tasks_df['Is_Lead']==1][['WhoId' , 'Call_Count']] # Create a Lead dataframe\n",
    "leads_to_update.drop_duplicates(inplace=True) # Remove duplicates (because 1 row for every call)\n",
    "leads_to_update.reset_index(inplace=True) # Reset index\n",
    "\n",
    "# Create Contacts dataframe with data to push to Salesforce\n",
    "contacts_to_update = tasks_df[tasks_df['Is_Contact']==1][['WhoId' , 'Call_Count']] # Create a Contact dataframe\n",
    "contacts_to_update.drop_duplicates(inplace=True) # Remove duplicates (because 1 row for every call)\n",
    "contacts_to_update.reset_index(inplace=True) # Reset index"
   ]
  },
  {
   "cell_type": "code",
   "execution_count": null,
   "metadata": {
    "collapsed": false
   },
   "outputs": [],
   "source": [
    "# Update 'Number_Of_Calls__c' field in Leads\n",
    "for i in range(0,int(leads_to_update['WhoId'].count()),1):\n",
    "    record_id = leads_to_update['WhoId'][i]\n",
    "    call_count = int(leads_to_update['Call_Count'][i])\n",
    "    sf.Lead.update(record_id,{'Number_Of_Calls__c': call_count})"
   ]
  },
  {
   "cell_type": "code",
   "execution_count": null,
   "metadata": {
    "collapsed": false
   },
   "outputs": [],
   "source": [
    "# Update 'Number_Of_Calls__c' field in Contacts\n",
    "for i in range(0,int(contacts_to_update['WhoId'].count()),1):\n",
    "    record_id = contacts_to_update['WhoId'][i]\n",
    "    call_count = int(contacts_to_update['Call_Count'][i])\n",
    "    sf.Contact.update(record_id,{'Number_Of_Calls__c': call_count})"
   ]
  }
 ],
 "metadata": {
  "kernelspec": {
   "display_name": "Python 2",
   "language": "python",
   "name": "python2"
  },
  "language_info": {
   "codemirror_mode": {
    "name": "ipython",
    "version": 2
   },
   "file_extension": ".py",
   "mimetype": "text/x-python",
   "name": "python",
   "nbconvert_exporter": "python",
   "pygments_lexer": "ipython2",
   "version": "2.7.11"
  }
 },
 "nbformat": 4,
 "nbformat_minor": 0
}
